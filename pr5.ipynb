{
 "cells": [
  {
   "cell_type": "markdown",
   "id": "7c2901b7",
   "metadata": {},
   "source": [
    "***Аналог генератора enumerate***"
   ]
  },
  {
   "cell_type": "code",
   "execution_count": null,
   "id": "c8b70df7",
   "metadata": {},
   "outputs": [],
   "source": [
    "def my_enumerate(iterable, start=0):\n",
    "    \"\"\"\n",
    "    Args:\n",
    "        iterable: Итерируемый объект.\n",
    "        start (int): Начальное значение счетчика.\n",
    "        \n",
    "    Yields:\n",
    "        tuple: Кортеж (index, element).\n",
    "    \"\"\"\n",
    "    index = start\n",
    "    for element in iterable:\n",
    "        yield index, element\n",
    "        index += 1"
   ]
  },
  {
   "cell_type": "code",
   "execution_count": 2,
   "id": "1d28d58e",
   "metadata": {},
   "outputs": [
    {
     "name": "stdout",
     "output_type": "stream",
     "text": [
      "1 a\n",
      "2 b\n",
      "3 c\n"
     ]
    }
   ],
   "source": [
    "for i, el in my_enumerate(['a', 'b', 'c'], 1):\n",
    "    print(i, el)"
   ]
  },
  {
   "cell_type": "markdown",
   "id": "59aa4b3e",
   "metadata": {},
   "source": [
    "Как работает:\n",
    "\n",
    "- Принимает итерируемый объект и начальное значение счетчика\n",
    "\n",
    "- На каждой итерации возвращает кортеж (текущий_индекс, текущий_элемент)\n",
    "\n",
    "- Счетчик увеличивается после каждого yield"
   ]
  },
  {
   "cell_type": "markdown",
   "id": "6f4cd134",
   "metadata": {},
   "source": [
    "***Генератор чисел Фибоначчи***"
   ]
  },
  {
   "cell_type": "code",
   "execution_count": null,
   "id": "a6e9751c",
   "metadata": {},
   "outputs": [],
   "source": [
    "def fibonacci():\n",
    "    a, b = 0, 1  # Инициализируем первые два числа\n",
    "    while True:  # Бесконечный цикл\n",
    "        yield a  # Возвращаем текущее число\n",
    "        a, b = b, a + b  # Обновляем значения для следующей итерации"
   ]
  },
  {
   "cell_type": "code",
   "execution_count": 6,
   "id": "fedba331",
   "metadata": {},
   "outputs": [
    {
     "name": "stdout",
     "output_type": "stream",
     "text": [
      "0 1 1 2 3 5 8 13 21 34\n"
     ]
    }
   ],
   "source": [
    "fib_gen = fibonacci()\n",
    "fib_numbers = [str(next(fib_gen)) for _ in range(10)]\n",
    "print(\" \".join(fib_numbers))"
   ]
  },
  {
   "cell_type": "markdown",
   "id": "30d45ac3",
   "metadata": {},
   "source": [
    "Как работает:\n",
    "\n",
    "- Каждое число равно сумме двух предыдущих\n",
    "\n",
    "- Используем множественное присваивание для одновременного обновления переменных\n",
    "\n",
    "- Генератор бесконечный, поэтому нужно ограничивать количество итераций при использовании"
   ]
  },
  {
   "cell_type": "markdown",
   "id": "09435aac",
   "metadata": {},
   "source": [
    "***Аналог itertools.cycle***"
   ]
  },
  {
   "cell_type": "code",
   "execution_count": 7,
   "id": "30bdab37",
   "metadata": {},
   "outputs": [],
   "source": [
    "def my_cycle(iterable):\n",
    "    saved = []  # Сохраняем элементы для повторного использования\n",
    "    for element in iterable:\n",
    "        yield element\n",
    "        saved.append(element)  # Сохраняем элемент\n",
    "    while saved:  # Бесконечно повторяем сохраненные элементы\n",
    "        for element in saved:\n",
    "            yield element"
   ]
  },
  {
   "cell_type": "code",
   "execution_count": 9,
   "id": "62755762",
   "metadata": {},
   "outputs": [
    {
     "name": "stdout",
     "output_type": "stream",
     "text": [
      "1 2 3 1 2\n"
     ]
    }
   ],
   "source": [
    "cycle_gen = my_cycle([1, 2, 3])\n",
    "cycle_numbers = [str(next(cycle_gen)) for _ in range(5)]\n",
    "print(\" \".join(cycle_numbers))"
   ]
  },
  {
   "cell_type": "markdown",
   "id": "a0f00b63",
   "metadata": {},
   "source": [
    "Как работает:\n",
    "\n",
    "- Сначала проходим по исходному итерируемому объекту, сохраняя все элементы в список\n",
    "\n",
    "- Затем бесконечно повторяем сохраненные элементы\n",
    "\n",
    "- Сохранение необходимо, потому что некоторые итерируемые объекты (как генераторы) можно пройти только один раз"
   ]
  },
  {
   "cell_type": "markdown",
   "id": "b7739dc9",
   "metadata": {},
   "source": [
    "***Аналог itertools.repeat***"
   ]
  },
  {
   "cell_type": "code",
   "execution_count": 10,
   "id": "2833bbb8",
   "metadata": {},
   "outputs": [],
   "source": [
    "def my_repeat(obj, times=None):\n",
    "    if times is None:  # Бесконечное повторение\n",
    "        while True:\n",
    "            yield obj\n",
    "    else:  # Ограниченное количество повторений\n",
    "        for _ in range(times):\n",
    "            yield obj"
   ]
  },
  {
   "cell_type": "code",
   "execution_count": 12,
   "id": "49e10ad6",
   "metadata": {},
   "outputs": [
    {
     "name": "stdout",
     "output_type": "stream",
     "text": [
      "hello hello hello\n",
      "x x x\n"
     ]
    }
   ],
   "source": [
    "# Ограниченное повторение\n",
    "result = []\n",
    "for item in my_repeat('hello', 3):\n",
    "    result.append(item)\n",
    "print(\" \".join(result))\n",
    "\n",
    "# Бесконечное повторение (нужно ограничить)\n",
    "inf_repeat = my_repeat('x')\n",
    "result = []\n",
    "for _ in range(3):\n",
    "    result.append(next(inf_repeat))\n",
    "print(\" \".join(result))"
   ]
  },
  {
   "cell_type": "markdown",
   "id": "b8502f61",
   "metadata": {},
   "source": [
    "Как работает:\n",
    "\n",
    "- Если times=None - бесконечно возвращает объект\n",
    "\n",
    "- Если указано количество раз - возвращает объект указанное количество раз\n",
    "\n",
    "- Использует два разных подхода в зависимости от параметра"
   ]
  },
  {
   "cell_type": "markdown",
   "id": "0f76a3bf",
   "metadata": {},
   "source": [
    "***Аналог itertools.product***"
   ]
  },
  {
   "cell_type": "code",
   "execution_count": 13,
   "id": "923dcb18",
   "metadata": {},
   "outputs": [],
   "source": [
    "def my_product(*iterables):\n",
    "    if not iterables:  # Базовый случай рекурсии\n",
    "        yield ()\n",
    "        return\n",
    "    first, *rest = iterables  # Разделяем на первый и остальные итерируемые объекты\n",
    "    for item in first:\n",
    "        for product_tuple in my_product(*rest):  # Рекурсивный вызов для остальных\n",
    "            yield (item,) + product_tuple  # Объединяем текущий элемент с результатами рекурсии"
   ]
  },
  {
   "cell_type": "code",
   "execution_count": 14,
   "id": "659a53bc",
   "metadata": {},
   "outputs": [
    {
     "name": "stdout",
     "output_type": "stream",
     "text": [
      "(1, 'a')\n",
      "(1, 'b')\n",
      "(2, 'a')\n",
      "(2, 'b')\n"
     ]
    }
   ],
   "source": [
    "for combo in my_product([1, 2], ['a', 'b']):\n",
    "    print(combo)"
   ]
  },
  {
   "cell_type": "markdown",
   "id": "262f3718",
   "metadata": {},
   "source": [
    "Как работает:\n",
    "\n",
    "- Использует рекурсию для обработки произвольного количества итерируемых объектов\n",
    "\n",
    "- Базовый случай: если итерируемых объектов нет, возвращаем пустой кортеж\n",
    "\n",
    "- Рекурсивный случай: для каждого элемента первого итерируемого объекта комбинируем его со всеми комбинациями остальных итерируемых объектов\n",
    "\n",
    "- Создает декартово произведение множеств"
   ]
  }
 ],
 "metadata": {
  "kernelspec": {
   "display_name": "venv",
   "language": "python",
   "name": "python3"
  },
  "language_info": {
   "codemirror_mode": {
    "name": "ipython",
    "version": 3
   },
   "file_extension": ".py",
   "mimetype": "text/x-python",
   "name": "python",
   "nbconvert_exporter": "python",
   "pygments_lexer": "ipython3",
   "version": "3.11.9"
  }
 },
 "nbformat": 4,
 "nbformat_minor": 5
}
